{
 "cells": [
  {
   "cell_type": "markdown",
   "id": "solid-present",
   "metadata": {},
   "source": [
    "# ECE 5973 - Artificial Neural Networks\n",
    "## Progress Report\n",
    "### Sarah Brown\n",
    "\n",
    "#### Project Overview\n",
    "My goal for this project is to be able to identify when the mail has been delivered to the mailbox outside of my house. This has had some complications as the original idea was to provide an alert when the mail arrived, but I forgot that the cameras are on a separate network which may pose some issues regarding providing alerts. Depending on how progress continues, I would like to implement another dataset from a different camera view to determine when the mail is coming. This would provide residents with enough time to place bills or letters in the mailbox without risking proper social distancing procedures.\n",
    "\n",
    "\n",
    "My goals for this progress report were to process images and create a dataset, work through examples, and begin training a model. \n",
    "\n",
    "Goals:\n",
    "* Process Images\n",
    "* Convert images to dataset\n",
    "* Find and work through examples\n",
    "* Begin neural network development and training\n",
    "\n",
    "#### Project So Far\n",
    "So far, I have selected images for my dataset and worked to convert them into something to process with Tensorflow.\n",
    "\n",
    "In addition, I read through several examples and have started working through similar examples.\n",
    "\n",
    "#### Next Steps\n",
    "Next, I want to begin implementing my model with Tensorflow and seeing what sort of results I can get. \n",
    "\n",
    "I am also considering ways of using computer vision to make the dataset easier to process by either filtering by color or by region to filter the image to the area next to the mailbox.\n",
    "\n",
    "I have some concerns regarding how to impement the model so it does realtime mail detection. I may try to set something up so it only checks during days of the week when mail is delievered (Monday - Saturday) and only checks in the afternoons to make the time window smaller.\n",
    "\n",
    "In addition, realtime mail detection may be a stretch goal depending on how difficult it ends up being to implement the model as it may require skills that are not focusing on the neural networks aspect of the course.\n",
    "\n",
    "Next steps:\n",
    "* Finish up dataset\n",
    "* Train model\n",
    "* Explore other model trainings other than tensorflow\n",
    "* Use model to detect mail realtime"
   ]
  }
 ],
 "metadata": {
  "kernelspec": {
   "display_name": "Python 3",
   "language": "python",
   "name": "python3"
  },
  "language_info": {
   "codemirror_mode": {
    "name": "ipython",
    "version": 3
   },
   "file_extension": ".py",
   "mimetype": "text/x-python",
   "name": "python",
   "nbconvert_exporter": "python",
   "pygments_lexer": "ipython3",
   "version": "3.8.5"
  }
 },
 "nbformat": 4,
 "nbformat_minor": 5
}
