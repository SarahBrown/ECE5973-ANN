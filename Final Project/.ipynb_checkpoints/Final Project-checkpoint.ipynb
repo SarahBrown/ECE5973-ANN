{
 "cells": [
  {
   "cell_type": "code",
   "execution_count": 1,
   "id": "accompanied-clock",
   "metadata": {},
   "outputs": [],
   "source": [
    "import pandas as pd\n",
    "import numpy as np\n",
    "import tensorflow as tf\n",
    "import cv2 as cv2\n",
    "\n",
    "from tensorflow.keras import datasets, layers, models\n",
    "from tensorflow.keras.preprocessing.image import ImageDataGenerator\n",
    "\n",
    "import os\n",
    "\n",
    "from matplotlib import pyplot as plt\n",
    "%matplotlib inline"
   ]
  },
  {
   "cell_type": "code",
   "execution_count": 2,
   "id": "approved-rental",
   "metadata": {},
   "outputs": [],
   "source": [
    "train_dir = './images/train'\n",
    "train_dir_process = './images/train/processed'\n",
    "train_dir_pos = os.path.join(train_dir, 'positive')\n",
    "train_dir_neg = os.path.join(train_dir, 'negative')\n",
    "test_dir = './images/test'\n",
    "test_dir_process = './images/test/processed'\n",
    "test_dir_pos = os.path.join(test_dir, 'positive')\n",
    "test_dir_neg = os.path.join(test_dir, 'negative')\n",
    "valid_dir = './images/valid'\n",
    "valid_dir_process = './images/valid/processed'\n",
    "valid_dir_pos = os.path.join(valid_dir, 'positive')\n",
    "valid_dir_neg = os.path.join(valid_dir, 'negative')\n",
    "\n",
    "train_pos_process = os.path.join(train_dir_process, 'positive')\n",
    "train_neg_process = os.path.join(train_dir_process, 'negative')\n",
    "valid_pos_process = os.path.join(valid_dir_process, 'positive')\n",
    "valid_neg_process = os.path.join(valid_dir_process, 'negative')\n",
    "test_pos_process = os.path.join(test_dir_process, 'positive')\n",
    "test_neg_process = os.path.join(test_dir_process, 'negative')"
   ]
  },
  {
   "cell_type": "code",
   "execution_count": 3,
   "id": "cooked-simpson",
   "metadata": {},
   "outputs": [
    {
     "name": "stdout",
     "output_type": "stream",
     "text": [
      "num train: 120 . num valid:  40 . num test:  108\n"
     ]
    }
   ],
   "source": [
    "num_pos_train = len(os.listdir(train_dir_pos))\n",
    "num_neg_train = len(os.listdir(train_dir_neg))\n",
    "num_pos_test = len(os.listdir(test_dir_pos))\n",
    "num_neg_test = len(os.listdir(test_dir_neg))\n",
    "num_pos_valid = len(os.listdir(valid_dir_pos))\n",
    "num_neg_valid = len(os.listdir(valid_dir_neg))\n",
    "\n",
    "total_train = num_pos_train + num_neg_train\n",
    "total_test = num_pos_test + num_neg_test\n",
    "total_valid= num_pos_valid+ num_neg_valid\n",
    "\n",
    "print(\"num train:\", total_train, \". num valid: \", total_valid, \". num test: \", total_test)\n",
    "\n",
    "batch_size = 32\n",
    "img_size = 64"
   ]
  },
  {
   "cell_type": "code",
   "execution_count": 4,
   "id": "illegal-australia",
   "metadata": {},
   "outputs": [],
   "source": [
    "def processImg(img, img_size):\n",
    "    img = cv2.resize(img, (720,int(1080*(1080/1920))))\n",
    "    img = img[130:330,200:400]\n",
    "    img_size_h = int(img_size*img.shape[0]/img.shape[1])\n",
    "    img = cv2.resize(img,(img_size, img_size_h))\n",
    "    return img\n",
    "\n",
    "def processFolder(datapath, img_size, output):\n",
    "    data = os.listdir(datapath)\n",
    "    num_data = len(data)\n",
    "    for i in range(num_data):\n",
    "        num = str(i+1)\n",
    "        img = processImg(cv2.imread(str(datapath+\"/\"+num+\".jpg\")), img_size)\n",
    "        cv2.imwrite(str(output+\"/\"+num+\".jpg\"), img)"
   ]
  },
  {
   "cell_type": "code",
   "execution_count": 5,
   "id": "cutting-suspension",
   "metadata": {},
   "outputs": [
    {
     "name": "stdout",
     "output_type": "stream",
     "text": [
      "(720, 1280, 3)\n",
      "(64, 64, 3)\n",
      "1.0\n"
     ]
    },
    {
     "data": {
      "text/plain": [
       "<matplotlib.image.AxesImage at 0x7f62db193790>"
      ]
     },
     "execution_count": 5,
     "metadata": {},
     "output_type": "execute_result"
    },
    {
     "data": {
      "image/png": "[encoded data removed]",
      "text/plain": [
       "<Figure size 432x288 with 1 Axes>"
      ]
     },
     "metadata": {
      "needs_background": "light"
     },
     "output_type": "display_data"
    }
   ],
   "source": [
    "train = cv2.imread('./images/positive/1.jpg')\n",
    "print(train.shape)\n",
    "truck = processImg(train, img_size)\n",
    "print(truck.shape)\n",
    "print(truck.shape[0]/truck.shape[1])\n",
    "rgb = cv2.cvtColor(truck, cv2.COLOR_BGR2RGB)\n",
    "plt.imshow(rgb)"
   ]
  },
  {
   "cell_type": "code",
   "execution_count": 6,
   "id": "parliamentary-harmony",
   "metadata": {},
   "outputs": [],
   "source": [
    "processFolder(train_dir_pos, img_size, train_pos_process)\n",
    "processFolder(train_dir_neg, img_size, train_neg_process)\n",
    "processFolder(valid_dir_pos, img_size, valid_pos_process)\n",
    "processFolder(valid_dir_neg, img_size, valid_neg_process)\n",
    "processFolder(test_dir_pos, img_size, test_pos_process)\n",
    "processFolder(test_dir_neg, img_size, test_neg_process)"
   ]
  },
  {
   "cell_type": "code",
   "execution_count": 7,
   "id": "collective-oliver",
   "metadata": {},
   "outputs": [],
   "source": [
    "img_generator = ImageDataGenerator(rescale=1/255.0)"
   ]
  },
  {
   "cell_type": "code",
   "execution_count": 8,
   "id": "placed-opinion",
   "metadata": {},
   "outputs": [
    {
     "name": "stdout",
     "output_type": "stream",
     "text": [
      "Found 200 images belonging to 2 classes.\n",
      "Found 40 images belonging to 2 classes.\n",
      "Found 108 images belonging to 2 classes.\n"
     ]
    }
   ],
   "source": [
    "train_img_gen = img_generator.flow_from_directory(batch_size = batch_size, \n",
    "                                                  directory = train_dir_process, \n",
    "                                                  shuffle = True, \n",
    "                                                  class_mode = 'binary',\n",
    "                                                  target_size=(img_size,img_size))\n",
    "\n",
    "valid_img_gen = img_generator.flow_from_directory(batch_size = batch_size, \n",
    "                                                  directory = valid_dir_process, \n",
    "                                                  shuffle = False, \n",
    "                                                  class_mode = 'binary',\n",
    "                                                  target_size=(img_size,img_size))\n",
    "test_img_gen = img_generator.flow_from_directory(batch_size = batch_size, \n",
    "                                                  directory = test_dir_process, \n",
    "                                                  shuffle = False, \n",
    "                                                  class_mode = 'binary',\n",
    "                                                  target_size=(img_size,img_size))"
   ]
  },
  {
   "cell_type": "code",
   "execution_count": 9,
   "id": "active-hostel",
   "metadata": {},
   "outputs": [
    {
     "data": {
      "text/plain": [
       "(<AxesSubplot:title={'center':'valid'}>,\n",
       " <matplotlib.image.AxesImage at 0x7f62db020430>,\n",
       " Text(0.5, 1.0, 'valid'),\n",
       " ([], []),\n",
       " ([], []))"
      ]
     },
     "execution_count": 9,
     "metadata": {},
     "output_type": "execute_result"
    },
    {
     "data": {
      "image/png": "[encoded data removed]",
      "text/plain": [
       "<Figure size 720x720 with 2 Axes>"
      ]
     },
     "metadata": {},
     "output_type": "display_data"
    },
    {
     "data": {
      "image/png": "[encoded data removed]",
      "text/plain": [
       "<Figure size 720x720 with 1 Axes>"
      ]
     },
     "metadata": {},
     "output_type": "display_data"
    }
   ],
   "source": [
    "train = train_img_gen[0][0][0]\n",
    "test = test_img_gen[0][0][0]\n",
    "valid = valid_img_gen[0][0][0]\n",
    "\n",
    "plt.figure(figsize=(10,10))\n",
    "plt.subplot(121), plt.imshow(train), plt.title(\"train\"), plt.xticks([]), plt.yticks([])\n",
    "plt.subplot(122), plt.imshow(test), plt.title(\"test\"), plt.xticks([]), plt.yticks([])\n",
    "plt.figure(figsize=(10,10))\n",
    "plt.subplot(121), plt.imshow(valid), plt.title(\"valid\"), plt.xticks([]), plt.yticks([])"
   ]
  },
  {
   "cell_type": "code",
   "execution_count": 10,
   "id": "internal-kentucky",
   "metadata": {},
   "outputs": [
    {
     "name": "stdout",
     "output_type": "stream",
     "text": [
      "c1:  KerasTensor(type_spec=TensorSpec(shape=(None, 64, 64, 16), dtype=tf.float32, name=None), name='conv2d_1/Relu:0', description=\"created by layer 'conv2d_1'\")\n",
      "p1:  KerasTensor(type_spec=TensorSpec(shape=(None, 32, 32, 16), dtype=tf.float32, name=None), name='max_pooling2d/MaxPool:0', description=\"created by layer 'max_pooling2d'\")\n",
      "c2:  KerasTensor(type_spec=TensorSpec(shape=(None, 32, 32, 32), dtype=tf.float32, name=None), name='conv2d_3/Relu:0', description=\"created by layer 'conv2d_3'\")\n",
      "p2:  KerasTensor(type_spec=TensorSpec(shape=(None, 16, 16, 32), dtype=tf.float32, name=None), name='max_pooling2d_1/MaxPool:0', description=\"created by layer 'max_pooling2d_1'\")\n",
      "c3:  KerasTensor(type_spec=TensorSpec(shape=(None, 16, 16, 64), dtype=tf.float32, name=None), name='conv2d_5/Relu:0', description=\"created by layer 'conv2d_5'\")\n",
      "u4:  KerasTensor(type_spec=TensorSpec(shape=(None, 32, 32, 32), dtype=tf.float32, name=None), name='conv2d_transpose/BiasAdd:0', description=\"created by layer 'conv2d_transpose'\")\n",
      "u4:  KerasTensor(type_spec=TensorSpec(shape=(None, 32, 32, 64), dtype=tf.float32, name=None), name='concatenate/concat:0', description=\"created by layer 'concatenate'\")\n",
      "c4:  KerasTensor(type_spec=TensorSpec(shape=(None, 32, 32, 32), dtype=tf.float32, name=None), name='conv2d_7/Relu:0', description=\"created by layer 'conv2d_7'\")\n",
      "u5:  KerasTensor(type_spec=TensorSpec(shape=(None, 64, 64, 16), dtype=tf.float32, name=None), name='conv2d_transpose_1/BiasAdd:0', description=\"created by layer 'conv2d_transpose_1'\")\n",
      "out:  KerasTensor(type_spec=TensorSpec(shape=(None, 1), dtype=tf.float32, name=None), name='dense/BiasAdd:0', description=\"created by layer 'dense'\")\n",
      "Model: \"model\"\n",
      "__________________________________________________________________________________________________\n",
      "Layer (type)                    Output Shape         Param #     Connected to                     \n",
      "==================================================================================================\n",
      "input_1 (InputLayer)            [(None, 64, 64, 3)]  0                                            \n",
      "__________________________________________________________________________________________________\n",
      "conv2d (Conv2D)                 (None, 64, 64, 16)   448         input_1[0][0]                    \n",
      "__________________________________________________________________________________________________\n",
      "conv2d_1 (Conv2D)               (None, 64, 64, 16)   2320        conv2d[0][0]                     \n",
      "__________________________________________________________________________________________________\n",
      "max_pooling2d (MaxPooling2D)    (None, 32, 32, 16)   0           conv2d_1[0][0]                   \n",
      "__________________________________________________________________________________________________\n",
      "conv2d_2 (Conv2D)               (None, 32, 32, 32)   4640        max_pooling2d[0][0]              \n",
      "__________________________________________________________________________________________________\n",
      "conv2d_3 (Conv2D)               (None, 32, 32, 32)   9248        conv2d_2[0][0]                   \n",
      "__________________________________________________________________________________________________\n",
      "max_pooling2d_1 (MaxPooling2D)  (None, 16, 16, 32)   0           conv2d_3[0][0]                   \n",
      "__________________________________________________________________________________________________\n",
      "conv2d_4 (Conv2D)               (None, 16, 16, 64)   18496       max_pooling2d_1[0][0]            \n",
      "__________________________________________________________________________________________________\n",
      "conv2d_5 (Conv2D)               (None, 16, 16, 64)   36928       conv2d_4[0][0]                   \n",
      "__________________________________________________________________________________________________\n",
      "conv2d_transpose (Conv2DTranspo (None, 32, 32, 32)   8224        conv2d_5[0][0]                   \n",
      "__________________________________________________________________________________________________\n",
      "concatenate (Concatenate)       (None, 32, 32, 64)   0           conv2d_transpose[0][0]           \n",
      "                                                                 conv2d_3[0][0]                   \n",
      "__________________________________________________________________________________________________\n",
      "conv2d_6 (Conv2D)               (None, 32, 32, 32)   18464       concatenate[0][0]                \n",
      "__________________________________________________________________________________________________\n",
      "conv2d_7 (Conv2D)               (None, 32, 32, 32)   9248        conv2d_6[0][0]                   \n",
      "__________________________________________________________________________________________________\n",
      "conv2d_transpose_1 (Conv2DTrans (None, 64, 64, 16)   2064        conv2d_7[0][0]                   \n",
      "__________________________________________________________________________________________________\n",
      "concatenate_1 (Concatenate)     (None, 64, 64, 32)   0           conv2d_transpose_1[0][0]         \n",
      "                                                                 conv2d_1[0][0]                   \n",
      "__________________________________________________________________________________________________\n",
      "conv2d_8 (Conv2D)               (None, 64, 64, 1)    33          concatenate_1[0][0]              \n",
      "__________________________________________________________________________________________________\n",
      "flatten (Flatten)               (None, 4096)         0           conv2d_8[0][0]                   \n",
      "__________________________________________________________________________________________________\n",
      "dense (Dense)                   (None, 1)            4097        flatten[0][0]                    \n",
      "==================================================================================================\n",
      "Total params: 114,210\n",
      "Trainable params: 114,210\n",
      "Non-trainable params: 0\n",
      "__________________________________________________________________________________________________\n"
     ]
    }
   ],
   "source": [
    "#layer 0\n",
    "inputs = layers.Input(shape=(img_size, img_size, 3))\n",
    "\n",
    "#layer 1\n",
    "c1 = layers.Conv2D(16, kernel_size=(3, 3), padding='same', activation='relu')(inputs)\n",
    "c1 = layers.Conv2D(16, kernel_size=(3, 3), padding='same', activation='relu')(c1)\n",
    "p1 = layers.MaxPool2D((2,2))(c1)\n",
    "print(\"c1: \", c1)\n",
    "print(\"p1: \", p1)\n",
    "\n",
    "#layer 2\n",
    "c2 = layers.Conv2D(32, kernel_size=(3, 3), padding='same', activation='relu')(p1)\n",
    "c2 = layers.Conv2D(32, kernel_size=(3, 3), padding='same', activation='relu')(c2)\n",
    "p2 = layers.MaxPool2D((2,2))(c2)\n",
    "print(\"c2: \", c2)\n",
    "print(\"p2: \", p2)\n",
    "\n",
    "#layer 3\n",
    "c3 = layers.Conv2D(64, kernel_size=(3, 3), padding='same', activation='relu')(p2)\n",
    "c3 = layers.Conv2D(64, kernel_size=(3, 3), padding='same', activation='relu')(c3)\n",
    "print(\"c3: \", c3)\n",
    "\n",
    "#layer 2\n",
    "u4 = tf.keras.layers.Conv2DTranspose(32, (2,2), strides=(2,2), padding='same')(c3)\n",
    "#u4 = tf.nn.conv2d_transpose()\n",
    "\n",
    "print(\"u4: \",u4)\n",
    "u4 = tf.keras.layers.concatenate([u4, c2])\n",
    "print(\"u4: \",u4)\n",
    "c4 = tf.keras.layers.Conv2D(32, (3,3), activation='relu', padding='same')(u4)\n",
    "c4 = tf.keras.layers.Conv2D(32, (3,3), activation='relu', padding='same')(c4)\n",
    "print(\"c4: \", c4)\n",
    "#layer 1\n",
    "u5 = tf.keras.layers.Conv2DTranspose(16, (2,2), strides=(2,2), padding='same')(c4)\n",
    "print(\"u5: \",u5)\n",
    "u5 = tf.keras.layers.concatenate([u5, c1])\n",
    "\n",
    "#layer 0\n",
    "outputs = tf.keras.layers.Conv2D(1, (1,1),  activation='relu', padding='same')(u5)\n",
    "outputs = tf.keras.layers.Flatten()(outputs)\n",
    "outputs = tf.keras.layers.Dense(1)(outputs)\n",
    "print(\"out: \", outputs)\n",
    "\n",
    "# Bind the optimizer and the loss function to the model\n",
    "model = tf.keras.Model(inputs=[inputs], outputs=[outputs])\n",
    "model.compile(optimizer='adam', loss='MSE', metrics=['accuracy'])\n",
    "model.summary()\n"
   ]
  },
  {
   "cell_type": "code",
   "execution_count": 11,
   "id": "sustained-given",
   "metadata": {},
   "outputs": [
    {
     "name": "stdout",
     "output_type": "stream",
     "text": [
      "Epoch 1/10\n",
      "4/4 [==============================] - 3s 561ms/step - loss: 0.4165 - accuracy: 0.5698 - val_loss: 0.2755 - val_accuracy: 0.6250\n",
      "Epoch 2/10\n",
      "4/4 [==============================] - 1s 320ms/step - loss: 0.3635 - accuracy: 0.4744 - val_loss: 0.2247 - val_accuracy: 0.6250\n",
      "Epoch 3/10\n",
      "4/4 [==============================] - 2s 392ms/step - loss: 0.2713 - accuracy: 0.5052 - val_loss: 0.2469 - val_accuracy: 0.6250\n",
      "Epoch 4/10\n",
      "4/4 [==============================] - 1s 401ms/step - loss: 0.2250 - accuracy: 0.6344 - val_loss: 0.2213 - val_accuracy: 0.6250\n",
      "Epoch 5/10\n",
      "4/4 [==============================] - 1s 329ms/step - loss: 0.2278 - accuracy: 0.5897 - val_loss: 0.2034 - val_accuracy: 0.8250\n",
      "Epoch 6/10\n",
      "4/4 [==============================] - 2s 426ms/step - loss: 0.1871 - accuracy: 0.7625 - val_loss: 0.1411 - val_accuracy: 0.8250\n",
      "Epoch 7/10\n",
      "4/4 [==============================] - 2s 486ms/step - loss: 0.1300 - accuracy: 0.8667 - val_loss: 0.1241 - val_accuracy: 0.9000\n",
      "Epoch 8/10\n",
      "4/4 [==============================] - 2s 393ms/step - loss: 0.0783 - accuracy: 0.9304 - val_loss: 0.0717 - val_accuracy: 0.8500\n",
      "Epoch 9/10\n",
      "4/4 [==============================] - 1s 348ms/step - loss: 0.0559 - accuracy: 0.9614 - val_loss: 0.0546 - val_accuracy: 1.0000\n",
      "Epoch 10/10\n",
      "4/4 [==============================] - 1s 345ms/step - loss: 0.0432 - accuracy: 0.9826 - val_loss: 0.0364 - val_accuracy: 1.0000\n"
     ]
    }
   ],
   "source": [
    "fit_result = model.fit(train_img_gen, \n",
    "                       steps_per_epoch = int(np.ceil(total_train/float(batch_size))),\n",
    "                       epochs = 10,\n",
    "                       validation_data = valid_img_gen,\n",
    "                       validation_steps = int(np.ceil(total_valid/float(batch_size))))"
   ]
  },
  {
   "cell_type": "code",
   "execution_count": 12,
   "id": "scientific-section",
   "metadata": {},
   "outputs": [
    {
     "name": "stdout",
     "output_type": "stream",
     "text": [
      "[0.5625, 0.4711538553237915, 0.5078125, 0.5192307829856873, 0.6634615659713745, 0.7578125, 0.8515625, 0.932692289352417, 0.9711538553237915, 0.9711538553237915]\n"
     ]
    }
   ],
   "source": [
    "print(fit_result.history['accuracy'])"
   ]
  },
  {
   "cell_type": "code",
   "execution_count": 13,
   "id": "anonymous-hopkins",
   "metadata": {},
   "outputs": [],
   "source": [
    "model.save_weights('model.h5')"
   ]
  },
  {
   "cell_type": "code",
   "execution_count": 15,
   "id": "sound-recorder",
   "metadata": {},
   "outputs": [
    {
     "name": "stdout",
     "output_type": "stream",
     "text": [
      "3/3 [==============================] - 0s 89ms/step\n",
      "file:  negative/63.jpg  prediction:  positive\n",
      "file:  negative/65.jpg  prediction:  positive\n",
      "file:  negative/88.jpg  prediction:  positive\n",
      "105\n",
      "3\n",
      "Accuracy on the test data: 97.2%\n"
     ]
    }
   ],
   "source": [
    "test_img_gen.reset()\n",
    "\n",
    "pred = model.predict(test_img_gen, steps=total_test/batch_size, verbose=1)\n",
    "\n",
    "predicted_class_indices = np.round(pred)\n",
    "\n",
    "labels = (train_img_gen.class_indices)\n",
    "labels = dict((v,k) for k,v in labels.items())\n",
    "predictions = [labels[k[0]] for k in predicted_class_indices]\n",
    "\n",
    "filenames = test_img_gen.filenames\n",
    "results = pd.DataFrame({\"Filename\":filenames,\n",
    "                      \"Predictions\":predictions})\n",
    "correct = 0\n",
    "incorrect = 0\n",
    "for index, value in results.iterrows():\n",
    "    filename = value[0].split('/')[0]\n",
    "    prediction_value = value[1]\n",
    "    if (filename == prediction_value):\n",
    "        correct = correct + 1\n",
    "    else:\n",
    "        print(\"file: \", value[0], \" prediction: \", prediction_value)\n",
    "        incorrect = incorrect + 1\n",
    "\n",
    "print(correct)\n",
    "print(incorrect)\n",
    "print('Accuracy on the test data: ' + str(round((correct/total_test)*100, 1)) + '%')\n",
    "\n"
   ]
  },
  {
   "cell_type": "code",
   "execution_count": null,
   "id": "improving-advocacy",
   "metadata": {},
   "outputs": [],
   "source": []
  },
  {
   "cell_type": "code",
   "execution_count": null,
   "id": "instrumental-butterfly",
   "metadata": {},
   "outputs": [],
   "source": []
  }
 ],
 "metadata": {
  "kernelspec": {
   "display_name": "Python 3",
   "language": "python",
   "name": "python3"
  },
  "language_info": {
   "codemirror_mode": {
    "name": "ipython",
    "version": 3
   },
   "file_extension": ".py",
   "mimetype": "text/x-python",
   "name": "python",
   "nbconvert_exporter": "python",
   "pygments_lexer": "ipython3",
   "version": "3.8.5"
  }
 },
 "nbformat": 4,
 "nbformat_minor": 5
}
