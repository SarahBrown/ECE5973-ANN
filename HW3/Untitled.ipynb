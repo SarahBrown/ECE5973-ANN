{
 "cells": [
  {
   "cell_type": "code",
   "execution_count": 3,
   "id": "adapted-scientist",
   "metadata": {},
   "outputs": [
    {
     "data": {
      "text/plain": [
       "array([7.48427323, 2.49693052, 0.68849808, 2.69446459, 4.13583358])"
      ]
     },
     "execution_count": 3,
     "metadata": {},
     "output_type": "execute_result"
    }
   ],
   "source": [
    "import yfinance as yf\n",
    "import pandas as pd\n",
    "import numpy as np\n",
    "\n",
    "\n",
    "X_train = np.array([[-0.5,2,-1],[-0.7,0.9,1.6],[-0.9,-0.1,1.3],[-1.5,0.5,-0.1],[-0.8,1,0.1]])\n",
    "y_train = [7.5,2.5,0.7,2.7,4.1]\n",
    "#linear regression\n",
    "X_train_lin = np.concatenate( [X_train, np.ones((X_train.shape[0],1))],1)\n",
    "\n",
    "w = np.linalg.inv(X_train_lin.T @ X_train_lin) @ X_train_lin.T @ y_train\n",
    "\n",
    "linear_train = X_train_lin @ w\n",
    "linear_train\n"
   ]
  },
  {
   "cell_type": "code",
   "execution_count": null,
   "id": "unique-launch",
   "metadata": {},
   "outputs": [],
   "source": []
  }
 ],
 "metadata": {
  "kernelspec": {
   "display_name": "Python 3",
   "language": "python",
   "name": "python3"
  },
  "language_info": {
   "codemirror_mode": {
    "name": "ipython",
    "version": 3
   },
   "file_extension": ".py",
   "mimetype": "text/x-python",
   "name": "python",
   "nbconvert_exporter": "python",
   "pygments_lexer": "ipython3",
   "version": "3.8.5"
  }
 },
 "nbformat": 4,
 "nbformat_minor": 5
}
